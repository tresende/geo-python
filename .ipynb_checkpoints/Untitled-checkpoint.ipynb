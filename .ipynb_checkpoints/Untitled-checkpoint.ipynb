{
 "cells": [
  {
   "cell_type": "markdown",
   "id": "a8f7ea9e",
   "metadata": {},
   "source": [
    "# Fundamentos Python"
   ]
  },
  {
   "cell_type": "markdown",
   "id": "8eb80209",
   "metadata": {},
   "source": [
    "## Ambiente\n",
    "\n",
    "- Diferença entre Jupyter Notebooks e arquivo Python \"convencional\"\n",
    "- Como executar célular e importância da ordem de execução"
   ]
  },
  {
   "cell_type": "markdown",
   "id": "fb6db388",
   "metadata": {},
   "source": [
    "## Operações matemáticas básicas\n",
    "\n",
    "O Python pode ser utilizado para realizar operações matemáticas básicas como: soma, subtração, multiplicação, divisão e exponenciação."
   ]
  },
  {
   "cell_type": "code",
   "execution_count": null,
   "id": "c49abf37",
   "metadata": {},
   "outputs": [],
   "source": []
  },
  {
   "cell_type": "markdown",
   "id": "45a0cfd3",
   "metadata": {},
   "source": [
    "## Variáveis\n",
    "\n",
    "Para utilizar os dados de forma mais útil, podemos guardar valores em *variáveis* através do operador `=`. Por exemplo, podemos armazenar o valor `30` em uma variável de nome `volume_total`, referente ao volume de uma determinada amostra de solo."
   ]
  },
  {
   "cell_type": "code",
   "execution_count": null,
   "id": "5b9e8668",
   "metadata": {},
   "outputs": [],
   "source": []
  },
  {
   "cell_type": "markdown",
   "id": "e5fa618c",
   "metadata": {},
   "source": [
    "De agora em diante, sempre que utilizarmos a variável `volume_total`, o Python irá entender que nos referimos ao seu valor `30`."
   ]
  },
  {
   "cell_type": "markdown",
   "id": "2076597a",
   "metadata": {},
   "source": [
    "## Tipos de dado\n",
    "\n",
    "Os dados armazenados em variáveis podem ser de diferentes tipos, sendo os mais comuns:\n",
    "\n",
    "- Integer\n",
    "- Float\n",
    "- String\n",
    "\n",
    "No exemplo anterior, foi atribuído o valor inteiro (integer) `30` à variável `volume_total`. Tente criar agora a variável `volume_vazios` e atribuir o valor fracionado (float) `8.5`."
   ]
  },
  {
   "cell_type": "code",
   "execution_count": null,
   "id": "01e6b62a",
   "metadata": {},
   "outputs": [],
   "source": []
  },
  {
   "cell_type": "markdown",
   "id": "ad16dd08",
   "metadata": {},
   "source": [
    "Para criar uma variável do tipo string, basta colocar o valor dentro de aspas simples ou duplas. Tente criar a variável `tipo_solo`."
   ]
  },
  {
   "cell_type": "code",
   "execution_count": null,
   "id": "fbd8c7ea",
   "metadata": {},
   "outputs": [],
   "source": []
  },
  {
   "cell_type": "markdown",
   "id": "34a4d2be",
   "metadata": {},
   "source": [
    "## Utilizando variáveis\n",
    "\n",
    "Uma vez que o valor está armazenado na variável, é possível realizar operações com essa variável. Tente multiplicar o volume de vazios por `1.5`."
   ]
  },
  {
   "cell_type": "code",
   "execution_count": null,
   "id": "4f3eb270",
   "metadata": {},
   "outputs": [],
   "source": []
  },
  {
   "cell_type": "markdown",
   "id": "b8ec629d",
   "metadata": {},
   "source": [
    "Crie agora uma variável `porosidade` com a razão entre o volume de vazios e o volume total."
   ]
  },
  {
   "cell_type": "code",
   "execution_count": null,
   "id": "7e8fbd44",
   "metadata": {},
   "outputs": [],
   "source": []
  },
  {
   "cell_type": "markdown",
   "id": "585da7cf",
   "metadata": {},
   "source": [
    "## Funções básicas\n",
    "\n",
    "O Python fornece algumas funções básicas que podem ser usadas para diversas funcionalidades. Tente usar a função `print()` para imprimir um valor na tela."
   ]
  },
  {
   "cell_type": "code",
   "execution_count": null,
   "id": "f075b0a1",
   "metadata": {},
   "outputs": [],
   "source": []
  },
  {
   "cell_type": "markdown",
   "id": "040675b2",
   "metadata": {},
   "source": [
    "A chamada de funções é sempre identificada pela utilização dos parênteses após o nome da mesma. \n",
    "\n",
    "Dentro dos parênteses devem ser indicados os parâmetros de entrada da função, que poderá ou não retornar um valor de saída.\n",
    "\n",
    "Algumas funções aceitam mais de um parâmetro de entrada, como é o caso da função `print()`."
   ]
  },
  {
   "cell_type": "code",
   "execution_count": null,
   "id": "f8d01d73",
   "metadata": {},
   "outputs": [],
   "source": []
  },
  {
   "cell_type": "markdown",
   "id": "a86af913",
   "metadata": {},
   "source": [
    "Também é possível passar uma função como parâmetro de entrada para outra função. Tente imprimir na tela o tipo de uma variável usando a função `type()`."
   ]
  },
  {
   "cell_type": "code",
   "execution_count": null,
   "id": "82313b11",
   "metadata": {},
   "outputs": [],
   "source": []
  },
  {
   "cell_type": "markdown",
   "id": "840f1a88",
   "metadata": {},
   "source": [
    "Outra possibilidade é a realização de operações aritméticas diretamente nos parâmetros da função. Tente imprimir o percentual de porosidade, multiplicando o valor calculado anteriormente por `100`."
   ]
  },
  {
   "cell_type": "code",
   "execution_count": null,
   "id": "af9df335",
   "metadata": {},
   "outputs": [],
   "source": []
  },
  {
   "cell_type": "markdown",
   "id": "b14b92bb",
   "metadata": {},
   "source": [
    "Note porém que o comando acima não altera o valor da variável `porosidade`."
   ]
  },
  {
   "cell_type": "code",
   "execution_count": null,
   "id": "3914e45d",
   "metadata": {},
   "outputs": [],
   "source": []
  },
  {
   "cell_type": "markdown",
   "id": "2412e747",
   "metadata": {},
   "source": [
    "Para isso, seria necessário realizar outra atribuição com o operador `=`."
   ]
  },
  {
   "cell_type": "code",
   "execution_count": null,
   "id": "754c101d",
   "metadata": {},
   "outputs": [],
   "source": []
  }
 ],
 "metadata": {
  "kernelspec": {
   "display_name": "Python 3 (ipykernel)",
   "language": "python",
   "name": "python3"
  },
  "language_info": {
   "codemirror_mode": {
    "name": "ipython",
    "version": 3
   },
   "file_extension": ".py",
   "mimetype": "text/x-python",
   "name": "python",
   "nbconvert_exporter": "python",
   "pygments_lexer": "ipython3",
   "version": "3.8.10"
  }
 },
 "nbformat": 4,
 "nbformat_minor": 5
}
